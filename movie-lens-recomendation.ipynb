{
 "cells": [
  {
   "cell_type": "markdown",
   "metadata": {},
   "source": [
    "# Import importance library "
   ]
  },
  {
   "cell_type": "code",
   "execution_count": 1,
   "metadata": {},
   "outputs": [],
   "source": [
    "import pandas as pd \n",
    "import numpy as np"
   ]
  },
  {
   "cell_type": "markdown",
   "metadata": {},
   "source": [
    "## Load the data "
   ]
  },
  {
   "cell_type": "code",
   "execution_count": 4,
   "metadata": {},
   "outputs": [],
   "source": [
    "ratings = pd.read_csv('./ratings.csv')\n",
    "ratings = ratings.drop(columns=['timestamp'])"
   ]
  },
  {
   "cell_type": "markdown",
   "metadata": {},
   "source": [
    "let's find the list of missing values "
   ]
  },
  {
   "cell_type": "code",
   "execution_count": 6,
   "metadata": {},
   "outputs": [],
   "source": [
    "unique_userIds = ratings['userId'].unique()\n",
    "unique_userIds = unique_userIds[~np.isnan(unique_userIds)]\n",
    "\n",
    "# Generate a list of all expected userIds based on the range of observed userIds\n",
    "expected_userIds = range(int(unique_userIds.min()), int(unique_userIds.max()) + 1)\n",
    "\n",
    "# Find missing userIds\n",
    "missing_userIds = [userId for userId in expected_userIds if userId not in unique_userIds]"
   ]
  },
  {
   "cell_type": "code",
   "execution_count": 7,
   "metadata": {},
   "outputs": [
    {
     "name": "stdout",
     "output_type": "stream",
     "text": [
      "[3, 41, 67, 96, 119, 130, 143, 158, 192, 229, 259, 268, 275, 283, 431, 434, 458, 468, 481, 502]\n"
     ]
    }
   ],
   "source": [
    "print(missing_userIds)"
   ]
  }
 ],
 "metadata": {
  "kernelspec": {
   "display_name": "reconed-test",
   "language": "python",
   "name": "python3"
  },
  "language_info": {
   "codemirror_mode": {
    "name": "ipython",
    "version": 3
   },
   "file_extension": ".py",
   "mimetype": "text/x-python",
   "name": "python",
   "nbconvert_exporter": "python",
   "pygments_lexer": "ipython3",
   "version": "3.8.19"
  }
 },
 "nbformat": 4,
 "nbformat_minor": 2
}
